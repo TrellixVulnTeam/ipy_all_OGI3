{
 "cells": [
  {
   "cell_type": "markdown",
   "metadata": {},
   "source": [
    "General comments:\n",
    "    \n",
    "- 1 point deducted for every function without a docsting\n",
    "- Inefficient methods will have a (potentially large) deduction\n",
    "- If a solution is not attempted, it will get 0 points\n",
    "- Make sure to read questions carefully and answer the actual question"
   ]
  },
  {
   "cell_type": "markdown",
   "metadata": {},
   "source": [
    "**1**. (20 points)\n",
    "\n",
    "Euclid's algorithm for finding the greatest common divisor of two numbers is\n",
    "\n",
    "```python\n",
    "gcd(a, 0) = a\n",
    "gcd(a, b) = gcd(b, a modulo b)\n",
    "```\n",
    "\n",
    "1. Write a function to find the greatest common divisor in Python  (8 points)\n",
    "2. What is the greatest common divisor of 17384 and 1928? (2 points)\n",
    "3. Write a function to calculate the least common multiple (8 points)\n",
    "4. What is the least common multiple of 17384 and 1928? (2 points)"
   ]
  },
  {
   "cell_type": "code",
   "execution_count": 1,
   "metadata": {},
   "outputs": [],
   "source": [
    "def gcd(a, b):\n",
    "    \"\"\"Greatest common divsior.\"\"\"\n",
    "\n",
    "    if b == 0:\n",
    "        return a\n",
    "    else:\n",
    "        return gcd(b, a % b)"
   ]
  },
  {
   "cell_type": "code",
   "execution_count": 2,
   "metadata": {},
   "outputs": [
    {
     "data": {
      "text/plain": [
       "8"
      ]
     },
     "execution_count": 2,
     "metadata": {},
     "output_type": "execute_result"
    }
   ],
   "source": [
    "gcd(17384, 1928)"
   ]
  },
  {
   "cell_type": "code",
   "execution_count": 3,
   "metadata": {},
   "outputs": [],
   "source": [
    "def lcm(a, b):\n",
    "    \"\"\"Least common multiple.\"\"\"\n",
    "    \n",
    "    d = gcd(a, b)\n",
    "    return a * (b // d)"
   ]
  },
  {
   "cell_type": "code",
   "execution_count": 4,
   "metadata": {},
   "outputs": [
    {
     "data": {
      "text/plain": [
       "4189544"
      ]
     },
     "execution_count": 4,
     "metadata": {},
     "output_type": "execute_result"
    }
   ],
   "source": [
    "lcm(17384, 1928)"
   ]
  },
  {
   "cell_type": "markdown",
   "metadata": {},
   "source": [
    "**2**.(20 points)\n",
    "\n",
    "Consider the following system of equations:\n",
    "\n",
    "$$\\begin{align*}\n",
    "2x_1& - x_2&    +x_x    &=& 6\\\\\n",
    "-x_1& +2x_2& -  x_3 &=& 2\\\\\n",
    " x_1   &  -x_2& + x_3 &=& 1\n",
    "\\end{align*}$$\n",
    "\n",
    "1. Consider the system in matrix form $Ax=b$ and define $A$, $b$ in numpy. (5 points)\n",
    "2. Show that $A$ is positive-definite (5 points)\n",
    "3. Use the appropriate matrix decomposition function in numpy and back-substitution to solve the system (10 points)"
   ]
  },
  {
   "cell_type": "code",
   "execution_count": 5,
   "metadata": {},
   "outputs": [],
   "source": [
    "import numpy as np\n",
    "import scipy.linalg as la"
   ]
  },
  {
   "cell_type": "code",
   "execution_count": 6,
   "metadata": {},
   "outputs": [],
   "source": [
    "A = np.array([\n",
    "    [2, -1, 1],\n",
    "    [-1, 2, -1],\n",
    "    [1, -1, 1]\n",
    "])"
   ]
  },
  {
   "cell_type": "code",
   "execution_count": 7,
   "metadata": {},
   "outputs": [],
   "source": [
    "b = np.array([6,2,1]).reshape(-1,1)"
   ]
  },
  {
   "cell_type": "code",
   "execution_count": 8,
   "metadata": {},
   "outputs": [
    {
     "data": {
      "text/plain": [
       "array([0.26794919, 1.        , 3.73205081])"
      ]
     },
     "execution_count": 8,
     "metadata": {},
     "output_type": "execute_result"
    }
   ],
   "source": [
    "la.eigvalsh(A)"
   ]
  },
  {
   "cell_type": "markdown",
   "metadata": {},
   "source": [
    "Since all eigenvalues are positive, $A$ is positive definite."
   ]
  },
  {
   "cell_type": "code",
   "execution_count": 9,
   "metadata": {},
   "outputs": [],
   "source": [
    "C = la.cholesky(A, lower=True)\n",
    "y = la.solve_triangular(C, b, lower=True)\n",
    "x = la.solve_triangular(C.T, y, lower=False)"
   ]
  },
  {
   "cell_type": "code",
   "execution_count": 10,
   "metadata": {},
   "outputs": [
    {
     "data": {
      "text/plain": [
       "array([[ 5.],\n",
       "       [ 3.],\n",
       "       [-1.]])"
      ]
     },
     "execution_count": 10,
     "metadata": {},
     "output_type": "execute_result"
    }
   ],
   "source": [
    "x"
   ]
  },
  {
   "cell_type": "code",
   "execution_count": 11,
   "metadata": {},
   "outputs": [
    {
     "data": {
      "text/plain": [
       "array([[6.],\n",
       "       [2.],\n",
       "       [1.]])"
      ]
     },
     "execution_count": 11,
     "metadata": {},
     "output_type": "execute_result"
    }
   ],
   "source": [
    "A @ x"
   ]
  },
  {
   "cell_type": "markdown",
   "metadata": {},
   "source": [
    "**Alternative**"
   ]
  },
  {
   "cell_type": "code",
   "execution_count": 12,
   "metadata": {},
   "outputs": [
    {
     "data": {
      "text/plain": [
       "array([[ 5.],\n",
       "       [ 3.],\n",
       "       [-1.]])"
      ]
     },
     "execution_count": 12,
     "metadata": {},
     "output_type": "execute_result"
    }
   ],
   "source": [
    "la.cho_solve(la.cho_factor(A), b)"
   ]
  },
  {
   "cell_type": "markdown",
   "metadata": {},
   "source": [
    "**3**. (20 points)\n",
    "\n",
    "You are given the following DNA sequence in FASTA format.\n",
    "\n",
    "```python\n",
    "dna = '''> A simulated DNA sequence.\n",
    "TTAGGCAGTAACCCCGCGATAGGTAGAGCACGCAATCGTCAAGGCGTGCGGTAGGGCTTCCGTGTCTTACCCAAAGAAAC\n",
    "GACGTAACGTTCCCCGGGCGGTTAAACCAAATCCACTTCACCAACGGCATAACGCGAAGCCCAAACTAAATCGCGCTCGA\n",
    "GCGGACGCACATTCGCTAGGCTGTGTAGGGGCAGTCTCCGTTAAGGACGATTACCACGTGATGGTAGTTCGCAACATTGG\n",
    "ACTGTCGGGAATTCCCGAAGGCACTTAAGCGGAGTCTTAGCGTACAGTAACGCAGTCCCGCGTGAACGACTGACAGATGA\n",
    "'''\n",
    "```\n",
    "\n",
    "1. Remove the comment line and combine the 4 lines of nucleotide symbols into a single string (4 points)\n",
    "2. Construct an empirical Markov transition matrix for the transition probabilities from any nucleotide to any other nucleotide from this string (8 points)\n",
    "3. Find the steady state distribution of the Markov chain by using the eigendecomposition of the transition matrix  (8 points)"
   ]
  },
  {
   "cell_type": "code",
   "execution_count": 13,
   "metadata": {},
   "outputs": [],
   "source": [
    "dna = '''> A simulated DNA sequence.\n",
    "TTAGGCAGTAACCCCGCGATAGGTAGAGCACGCAATCGTCAAGGCGTGCGGTAGGGCTTCCGTGTCTTACCCAAAGAAAC\n",
    "GACGTAACGTTCCCCGGGCGGTTAAACCAAATCCACTTCACCAACGGCATAACGCGAAGCCCAAACTAAATCGCGCTCGA\n",
    "GCGGACGCACATTCGCTAGGCTGTGTAGGGGCAGTCTCCGTTAAGGACGATTACCACGTGATGGTAGTTCGCAACATTGG\n",
    "ACTGTCGGGAATTCCCGAAGGCACTTAAGCGGAGTCTTAGCGTACAGTAACGCAGTCCCGCGTGAACGACTGACAGATGA'\n",
    "'''"
   ]
  },
  {
   "cell_type": "code",
   "execution_count": 14,
   "metadata": {},
   "outputs": [],
   "source": [
    "seq = ''.join(dna.strip().split('\\n')[1:])"
   ]
  },
  {
   "cell_type": "code",
   "execution_count": 15,
   "metadata": {},
   "outputs": [],
   "source": [
    "from collections import Counter\n",
    "pairs = zip(seq, seq[1:])\n",
    "c = Counter(pairs)"
   ]
  },
  {
   "cell_type": "code",
   "execution_count": 16,
   "metadata": {},
   "outputs": [],
   "source": [
    "M = np.zeros((4,4))\n",
    "for i, x in enumerate('ACTG'):\n",
    "    for j, y in enumerate('ACTG'):\n",
    "        M[i, j] = c[(x, y)]"
   ]
  },
  {
   "cell_type": "code",
   "execution_count": 17,
   "metadata": {},
   "outputs": [
    {
     "data": {
      "text/plain": [
       "array([[26., 25., 11., 22.],\n",
       "       [21., 20., 12., 33.],\n",
       "       [19., 17., 14., 11.],\n",
       "       [19., 24., 23., 22.]])"
      ]
     },
     "execution_count": 17,
     "metadata": {},
     "output_type": "execute_result"
    }
   ],
   "source": [
    "M"
   ]
  },
  {
   "cell_type": "code",
   "execution_count": 18,
   "metadata": {},
   "outputs": [],
   "source": [
    "M = M/M.sum(axis=1)[:, None]"
   ]
  },
  {
   "cell_type": "code",
   "execution_count": 19,
   "metadata": {},
   "outputs": [
    {
     "data": {
      "text/plain": [
       "array([[0.30952381, 0.29761905, 0.13095238, 0.26190476],\n",
       "       [0.24418605, 0.23255814, 0.13953488, 0.38372093],\n",
       "       [0.31147541, 0.27868852, 0.2295082 , 0.18032787],\n",
       "       [0.21590909, 0.27272727, 0.26136364, 0.25      ]])"
      ]
     },
     "execution_count": 19,
     "metadata": {},
     "output_type": "execute_result"
    }
   ],
   "source": [
    "M"
   ]
  },
  {
   "cell_type": "code",
   "execution_count": 20,
   "metadata": {},
   "outputs": [],
   "source": [
    "e, v = la.eig(M.T)"
   ]
  },
  {
   "cell_type": "code",
   "execution_count": 21,
   "metadata": {},
   "outputs": [
    {
     "data": {
      "text/plain": [
       "array([ 1.        +0.j       ,  0.03786645+0.0984321j,\n",
       "        0.03786645-0.0984321j, -0.05414276+0.j       ])"
      ]
     },
     "execution_count": 21,
     "metadata": {},
     "output_type": "execute_result"
    }
   ],
   "source": [
    "e"
   ]
  },
  {
   "cell_type": "code",
   "execution_count": 22,
   "metadata": {},
   "outputs": [],
   "source": [
    "v = np.real_if_close(v[:, 0])"
   ]
  },
  {
   "cell_type": "code",
   "execution_count": 23,
   "metadata": {},
   "outputs": [],
   "source": [
    "p = v/v.sum()"
   ]
  },
  {
   "cell_type": "code",
   "execution_count": 24,
   "metadata": {},
   "outputs": [
    {
     "data": {
      "text/plain": [
       "array([0.26642087, 0.26964692, 0.18778658, 0.27614562])"
      ]
     },
     "execution_count": 24,
     "metadata": {},
     "output_type": "execute_result"
    }
   ],
   "source": [
    "p"
   ]
  },
  {
   "cell_type": "code",
   "execution_count": 25,
   "metadata": {},
   "outputs": [
    {
     "data": {
      "text/plain": [
       "array([0.26642087, 0.26964692, 0.18778658, 0.27614562])"
      ]
     },
     "execution_count": 25,
     "metadata": {},
     "output_type": "execute_result"
    }
   ],
   "source": [
    "p @ M"
   ]
  },
  {
   "cell_type": "markdown",
   "metadata": {},
   "source": [
    "**4**. (20 points)\n",
    "\n",
    "You are given the following set of data to fit a quadratic polynomial to\n",
    "\n",
    "```python\n",
    "x = np.arange(10)\n",
    "y = np.array([  1.58873597,   7.55101533,  10.71372171,   7.90123225,\n",
    "                -2.05877605, -12.40257359, -28.64568712, -46.39822281,\n",
    "                -68.15488905, -97.16032044])\n",
    "```\n",
    "\n",
    "- Find the least squares solution by using the normal equations $A^T A \\hat{x} = A^T y$. (5 points)\n",
    "\n",
    "- Write your own **gradient descent** optimization function to find the least squares solution for the coefficients $\\beta$ of a quadratic polynomial. Do **not** use a gradient descent algorithm from a package such as `scipy-optimize` or `scikit-learn`.  You can use a simple for loop - start with the parameters `beta = np.zeros(3)` with a learning rate $\\alpha = 0.0001$ and run for 100000 iterations. (15 points)"
   ]
  },
  {
   "cell_type": "code",
   "execution_count": 26,
   "metadata": {},
   "outputs": [],
   "source": [
    "x = np.arange(10)\n",
    "y = np.array([  1.58873597,   7.55101533,  10.71372171,   7.90123225,\n",
    "                -2.05877605, -12.40257359, -28.64568712, -46.39822281,\n",
    "                -68.15488905, -97.16032044])"
   ]
  },
  {
   "cell_type": "code",
   "execution_count": 27,
   "metadata": {},
   "outputs": [],
   "source": [
    "A = np.c_[np.ones(len(x)), x, x**2]"
   ]
  },
  {
   "cell_type": "code",
   "execution_count": 28,
   "metadata": {},
   "outputs": [
    {
     "data": {
      "text/plain": [
       "array([ 2.55079998,  7.31478229, -2.04118936])"
      ]
     },
     "execution_count": 28,
     "metadata": {},
     "output_type": "execute_result"
    }
   ],
   "source": [
    "betas = la.solve(A.T @ A, A.T @ y)\n",
    "betas"
   ]
  },
  {
   "cell_type": "code",
   "execution_count": 29,
   "metadata": {},
   "outputs": [],
   "source": [
    "def f(x, y, betas):\n",
    "    \"\"\"Cost function\"\"\"\n",
    "    \n",
    "    return betas[0] + betas[1]*x + betas[2]*x**2 - y"
   ]
  },
  {
   "cell_type": "code",
   "execution_count": 30,
   "metadata": {},
   "outputs": [],
   "source": [
    "def grad(x, y, betas):\n",
    "    \"\"\"Gradient.\"\"\"\n",
    "    \n",
    "    A = np.c_[np.ones(len(x)), x, x**2]\n",
    "    \n",
    "    return A.T @ A @ betas - A.T @ y"
   ]
  },
  {
   "cell_type": "code",
   "execution_count": 31,
   "metadata": {},
   "outputs": [],
   "source": [
    "def gd(x, betas, grad, alpha=0.0001, max_iter=100000):\n",
    "    \"\"\"Gradient descent.\"\"\"\n",
    "    \n",
    "    for i in range(max_iter):\n",
    "        betas = betas - alpha * grad(x, y, betas)\n",
    "    return betas"
   ]
  },
  {
   "cell_type": "code",
   "execution_count": 32,
   "metadata": {},
   "outputs": [],
   "source": [
    "betas = gd(x, betas, grad)"
   ]
  },
  {
   "cell_type": "code",
   "execution_count": 33,
   "metadata": {},
   "outputs": [
    {
     "data": {
      "text/plain": [
       "array([ 2.55079998,  7.31478229, -2.04118936])"
      ]
     },
     "execution_count": 33,
     "metadata": {},
     "output_type": "execute_result"
    }
   ],
   "source": [
    "betas"
   ]
  },
  {
   "cell_type": "markdown",
   "metadata": {},
   "source": [
    "**5**. (20 points)\n",
    "\n",
    "A milkmaid is at point A and needs to get to point B. However, she also needs to fill a pail of water from the river en route from A to B. The equation of the river's path is shown in the figure below. What is the minimum distance she has to travel to do this?\n",
    "\n",
    "1. Solve using `scipy.optimize` and constrained minimization (15 points)\n",
    "2. Plot the solution (5 point)\n",
    "\n",
    "![Milkmaid problem](data/milkmaid.png)\n",
    "\n",
    "Hint: There is a local and a global optimum for this problem."
   ]
  },
  {
   "cell_type": "code",
   "execution_count": 34,
   "metadata": {},
   "outputs": [],
   "source": [
    "import scipy.optimize as opt"
   ]
  },
  {
   "cell_type": "code",
   "execution_count": 35,
   "metadata": {},
   "outputs": [
    {
     "name": "stdout",
     "output_type": "stream",
     "text": [
      "Shortest distance 9.963398299572699\n"
     ]
    }
   ],
   "source": [
    "def f(x, A, B):\n",
    "    \"\"\"Distance between two points\"\"\"\n",
    "    \n",
    "    return la.norm(x-A) + la.norm(x-B)\n",
    "\n",
    "def g(x):\n",
    "    \"\"\"Equation of stream.\"\"\"\n",
    "\n",
    "    return 10/(1+x)\n",
    "\n",
    "A = np.array([2,8])\n",
    "B = np.array([8,4])\n",
    "cons = {'type': 'eq', 'fun': lambda x: x[1] - g(x[0])}\n",
    "\n",
    "ms = [opt.minimize(f, [x0, g(x0)], args=(A, B), constraints=cons) for x0 in range(0, 11)]\n",
    "m = min(ms, key=lambda res: res.fun)\n",
    "\n",
    "print(\"Shortest distance\", m.fun)"
   ]
  },
  {
   "cell_type": "code",
   "execution_count": 36,
   "metadata": {},
   "outputs": [],
   "source": [
    "%matplotlib inline\n",
    "\n",
    "import matplotlib.pyplot as plt"
   ]
  },
  {
   "cell_type": "code",
   "execution_count": 37,
   "metadata": {},
   "outputs": [
    {
     "data": {
      "image/png": "[encoded data removed]",
      "text/plain": [
       "<Figure size 432x288 with 1 Axes>"
      ]
     },
     "metadata": {
      "needs_background": "light"
     },
     "output_type": "display_data"
    }
   ],
   "source": [
    "xp = np.linspace(0, 10, 100)\n",
    "plt.plot(xp, g(xp))\n",
    "plt.plot([A[0], m.x[0], B[0]], [A[1], m.x[1], B[1]], '-o', c='red')\n",
    "pass"
   ]
  },
  {
   "cell_type": "code",
   "execution_count": null,
   "metadata": {},
   "outputs": [],
   "source": []
  }
 ],
 "metadata": {
  "kernelspec": {
   "display_name": "Python 3",
   "language": "python",
   "name": "python3"
  },
  "language_info": {
   "codemirror_mode": {
    "name": "ipython",
    "version": 3
   },
   "file_extension": ".py",
   "mimetype": "text/x-python",
   "name": "python",
   "nbconvert_exporter": "python",
   "pygments_lexer": "ipython3",
   "version": "3.7.0"
  }
 },
 "nbformat": 4,
 "nbformat_minor": 2
}
