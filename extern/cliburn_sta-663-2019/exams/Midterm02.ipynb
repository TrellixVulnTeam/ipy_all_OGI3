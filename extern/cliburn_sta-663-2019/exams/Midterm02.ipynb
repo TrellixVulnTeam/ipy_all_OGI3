{
 "cells": [
  {
   "cell_type": "markdown",
   "metadata": {},
   "source": [
    "# Midterm Exam 02\n",
    "\n",
    "- This is a closed book exam\n",
    "- You should only ever have a SINGLE browser tab open\n",
    "- The exam lasts 75 minutes, and Sakai will not accept late submissions\n",
    "- You may use the following:\n",
    "\n",
    "    - TAB completion\n",
    "    - SHIFT-TAB completion for function arguments\n",
    "    - help(func), `?func`, `func?` to get help on `func`\n",
    "    \n",
    "- To create a new cell, use `ESC-A` or `ESC-B`\n",
    "\n",
    "Note that there are 5 questions, each worth 25 points. The maximum grade you can have is 100.\n",
    "\n",
    "**Honor Code: By taking this exam, you agree to abide by the Duke Honor Code.**"
   ]
  },
  {
   "cell_type": "markdown",
   "metadata": {},
   "source": [
    "----"
   ]
  },
  {
   "cell_type": "markdown",
   "metadata": {},
   "source": [
    "**1**. (25 points)\n",
    "\n",
    "The Collatz sequence is defined by the following rules for finding the next number\n",
    "```\n",
    "if the current number is even, divide by 2\n",
    "if the current number is odd, multiply by 3 and add 1\n",
    "if the current number is 1, stop\n",
    "```\n",
    "- Find the starting number and length of the longest Collatz sequence for starting integers in `range(1, 10001)` (15 points)\n",
    "- Make a scatter plot of the sequence length against starting number for starting integers in `range(1, 10001)`. Use a size of 1 (s=1) in the argument to scatter function. (10 points)\n",
    "\n",
    "Note: The Collatz sequence is only for positive integers. For example, if the starting number is 3, the collatz sequence is `[3, 10, 5, 16, 8, 4, 2, 1]`."
   ]
  },
  {
   "cell_type": "code",
   "execution_count": null,
   "metadata": {},
   "outputs": [],
   "source": [
    "\n",
    "\n",
    "\n"
   ]
  },
  {
   "cell_type": "markdown",
   "metadata": {},
   "source": [
    "**2**. (25 points)\n",
    "\n",
    "The Newton-Rephson algorithm finds zeros of a function using the update\n",
    "\n",
    "$$\n",
    "x_{n+1} = x_n - \\frac{f(x_n)}{f'(x_n)}\n",
    "$$\n",
    "\n",
    "- Use the Newton-Raphson algorithm to find all solutions to $x^3 = 1$. Use $2, -2+3i, -2-3i$ as the starting conditions. You can use a brute force function that always terminates after 100 iterations. (15 points)\n",
    "- Find the solutions by finding the companion matrix and performing an eigendecomposition. (10 points)\n",
    "\n",
    "Note: Python uses $j$ for the imaginary part, not $i$"
   ]
  },
  {
   "cell_type": "code",
   "execution_count": null,
   "metadata": {},
   "outputs": [],
   "source": [
    "\n",
    "\n",
    "\n"
   ]
  },
  {
   "cell_type": "markdown",
   "metadata": {},
   "source": [
    "**3**. (25 points)\n",
    "\n",
    "You are given the following data\n",
    "\n",
    "```python\n",
    "A = np.array([[1, 8, 0, 7],\n",
    "       [0, 2, 9, 4],\n",
    "       [2, 8, 8, 3],\n",
    "       [4, 8, 6, 1],\n",
    "       [2, 1, 9, 6],\n",
    "       [0, 7, 0, 1],\n",
    "       [4, 0, 2, 4],\n",
    "       [1, 4, 9, 5],\n",
    "       [6, 2, 6, 6],\n",
    "       [9, 9, 6, 3]], dtype='float')\n",
    "\n",
    "b = np.array([[2],\n",
    "       [5],\n",
    "       [0],\n",
    "       [0],\n",
    "       [6],\n",
    "       [7],\n",
    "       [2],\n",
    "       [6],\n",
    "       [7],\n",
    "       [9]], dtype='float')\n",
    "```\n",
    "\n",
    "- Using SVD directly (not via `lstsq`), find the least squares solution to $Ax = b$ (10 points)\n",
    "- Use SVE to find the best rank 3 approximation of A (10 points)\n",
    "- Calculate the approximation error in terms of the Frobenius norm (5 points)"
   ]
  },
  {
   "cell_type": "code",
   "execution_count": null,
   "metadata": {},
   "outputs": [],
   "source": [
    "\n",
    "\n",
    "\n"
   ]
  },
  {
   "cell_type": "markdown",
   "metadata": {},
   "source": [
    "**4**. (25 points)\n",
    "\n",
    "We observe some data points $(x_i, y_i)$, and believe that an appropriate model for the data is that\n",
    "\n",
    "$$\n",
    "f(x) = b_0 + b_1 x + b_2 x^2\n",
    "$$\n",
    "\n",
    "with some added noise. \n",
    "\n",
    "- Find optimal values of the parameters $\\beta = (b_0, b_1, b_2)$ that minimize $\\Vert y - f(x) \\Vert^2$ using gradient descent and starting with an initial value of $\\beta_0 = \\begin{bmatrix}1 & 1 &1 \\end{bmatrix}$. Use a learning rate of 0.0001 and 10,000 iterations (20 points)\n",
    "- Plot the fitted quadratic together with the data points (5 points)\n",
    "\n",
    "Remember to use column vectors for $x$ and $y$.\n",
    "\n",
    "Data\n",
    "```\n",
    "x = np.array([[0],\n",
    "       [1],\n",
    "       [2],\n",
    "       [3],\n",
    "       [4],\n",
    "       [5],\n",
    "       [6],\n",
    "       [7],\n",
    "       [8],\n",
    "       [9]])\n",
    "y = np.array([[  4.70612107],\n",
    "       [  4.63393704],\n",
    "       [  6.49770138],\n",
    "       [ 12.11243273],\n",
    "       [ 20.51575619],\n",
    "       [ 34.23493694],\n",
    "       [ 53.1814074 ],\n",
    "       [ 74.20612958],\n",
    "       [101.24176654],\n",
    "       [131.85009012]])\n",
    "```"
   ]
  },
  {
   "cell_type": "code",
   "execution_count": null,
   "metadata": {},
   "outputs": [],
   "source": [
    "\n",
    "\n",
    "\n"
   ]
  },
  {
   "cell_type": "markdown",
   "metadata": {},
   "source": [
    "**5**. (25 points)\n",
    "\n",
    "Recall that the page rank of a node is given by the equation\n",
    "\n",
    "![i1](https://wikimedia.org/api/rest_v1/media/math/render/svg/6bb0f1469218a064274fd4691143e9ce64639dc2)\n",
    "\n",
    "and at steady state, we have the page rank vector $R$\n",
    "\n",
    "![i3](https://wikimedia.org/api/rest_v1/media/math/render/svg/65d2fed50688deaca4640b117c88a9e7a3c2ef0d)\n",
    "\n",
    "where $d$ is the damping factor, $N$ is the number of nodes, $1$ is a vector of ones, and \n",
    "\n",
    "![i2.5](https://wikimedia.org/api/rest_v1/media/math/render/svg/3e82b446a376633a386b10668703a4547f167d1c)\n",
    "\n",
    "where $L(p_j)$ is the number of outgoing links from node $p_j$.\n",
    "\n",
    "Consider the graph\n",
    "\n",
    "![i0](data/pagerank.png)\n",
    "\n",
    "If $d = 0.9$ find the page rank of each node\n",
    "\n",
    "- By solving a linear system (15 points)\n",
    "- By eigendecomposition (10 points)\n",
    "\n",
    "Note: The Markov matrix constructed as instructed does not follow the usual convention. Here the columns of our Markov matrix are probability vectors, and the page rank is considered to be a column vector of the steady state probabilities."
   ]
  },
  {
   "cell_type": "code",
   "execution_count": null,
   "metadata": {},
   "outputs": [],
   "source": [
    "\n",
    "\n",
    "\n"
   ]
  }
 ],
 "metadata": {
  "kernelspec": {
   "display_name": "Python 3",
   "language": "python",
   "name": "python3"
  },
  "language_info": {
   "codemirror_mode": {
    "name": "ipython",
    "version": 3
   },
   "file_extension": ".py",
   "mimetype": "text/x-python",
   "name": "python",
   "nbconvert_exporter": "python",
   "pygments_lexer": "ipython3",
   "version": "3.7.0"
  }
 },
 "nbformat": 4,
 "nbformat_minor": 2
}
