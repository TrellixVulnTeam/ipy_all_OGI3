{
 "cells": [
  {
   "cell_type": "markdown",
   "metadata": {},
   "source": [
    "General comments:\n",
    "    \n",
    "- 1 point deducted for every function without a docsting\n",
    "- Inefficient methods will have a (potentially large) deduction\n",
    "- If a solution is not attempted, it will get 0 points\n",
    "- Make sure to read questions carefully and answer the actual question"
   ]
  },
  {
   "cell_type": "markdown",
   "metadata": {},
   "source": [
    "**1**. (20 points)\n",
    "\n",
    "Euclid's algorithm for finding the greatest common divisor of two numbers is\n",
    "\n",
    "```python\n",
    "gcd(a, 0) = a\n",
    "gcd(a, b) = gcd(b, a modulo b)\n",
    "```\n",
    "\n",
    "1. Write a function to find the greatest common divisor in Python  (8 points)\n",
    "2. What is the greatest common divisor of 17384 and 1928? (2 points)\n",
    "3. Write a function to calculate the least common multiple (8 points)\n",
    "4. What is the least common multiple of 17384 and 1928? (2 points)"
   ]
  },
  {
   "cell_type": "code",
   "execution_count": null,
   "metadata": {},
   "outputs": [],
   "source": [
    "\n",
    "\n",
    "\n"
   ]
  },
  {
   "cell_type": "markdown",
   "metadata": {},
   "source": [
    "**2**.(20 points)\n",
    "\n",
    "Consider the following system of equations:\n",
    "\n",
    "$$\\begin{align*}\n",
    "2x_1& - x_2&    +x_x    &=& 6\\\\\n",
    "-x_1& +2x_2& -  x_3 &=& 2\\\\\n",
    " x_1   &  -x_2& + x_3 &=& 1\n",
    "\\end{align*}$$\n",
    "\n",
    "1. Consider the system in matrix form $Ax=b$ and define $A$, $b$ in numpy. (5 points)\n",
    "2. Show that $A$ is positive-definite (5 points)\n",
    "3. Use the appropriate matrix decomposition function in numpy and back-substitution to solve the system (10 points)"
   ]
  },
  {
   "cell_type": "code",
   "execution_count": null,
   "metadata": {},
   "outputs": [],
   "source": [
    "\n",
    "\n",
    "\n"
   ]
  },
  {
   "cell_type": "markdown",
   "metadata": {},
   "source": [
    "**3**. (20 points)\n",
    "\n",
    "You are given the following DNA sequence in FASTA format.\n",
    "\n",
    "```python\n",
    "dna = '''> A simulated DNA sequence.\n",
    "TTAGGCAGTAACCCCGCGATAGGTAGAGCACGCAATCGTCAAGGCGTGCGGTAGGGCTTCCGTGTCTTACCCAAAGAAAC\n",
    "GACGTAACGTTCCCCGGGCGGTTAAACCAAATCCACTTCACCAACGGCATAACGCGAAGCCCAAACTAAATCGCGCTCGA\n",
    "GCGGACGCACATTCGCTAGGCTGTGTAGGGGCAGTCTCCGTTAAGGACGATTACCACGTGATGGTAGTTCGCAACATTGG\n",
    "ACTGTCGGGAATTCCCGAAGGCACTTAAGCGGAGTCTTAGCGTACAGTAACGCAGTCCCGCGTGAACGACTGACAGATGA\n",
    "'''\n",
    "```\n",
    "\n",
    "1. Remove the comment line and combine the 4 lines of nucleotide symbols into a single string (4 points)\n",
    "2. Construct an empirical Markov transition matrix for the transition probabilities from any nucleotide to any other nucleotide from this string (8 points)\n",
    "3. Find the steady state distribution of the Markov chain by using the eigendecomposition of the transition matrix  (8 points)"
   ]
  },
  {
   "cell_type": "code",
   "execution_count": null,
   "metadata": {},
   "outputs": [],
   "source": [
    "\n",
    "\n",
    "\n"
   ]
  },
  {
   "cell_type": "markdown",
   "metadata": {},
   "source": [
    "**4**. (20 points)\n",
    "\n",
    "You are given the following set of data to fit a quadratic polynomial to\n",
    "\n",
    "```python\n",
    "x = np.arange(10)\n",
    "y = np.array([  1.58873597,   7.55101533,  10.71372171,   7.90123225,\n",
    "                -2.05877605, -12.40257359, -28.64568712, -46.39822281,\n",
    "                -68.15488905, -97.16032044])\n",
    "```\n",
    "\n",
    "- Find the least squares solution by using the normal equations $A^T A \\hat{x} = A^T y$. (5 points)\n",
    "\n",
    "- Write your own **gradient descent** optimization function to find the least squares solution for the coefficients $\\beta$ of a quadratic polynomial. Do **not** use a gradient descent algorithm from a package such as `scipy-optimize` or `scikit-learn`.  You can use a simple for loop - start with the parameters `beta = np.zeros(3)` with a learning rate $\\alpha = 0.0001$ and run for 100000 iterations. (15 points)"
   ]
  },
  {
   "cell_type": "code",
   "execution_count": null,
   "metadata": {},
   "outputs": [],
   "source": [
    "\n",
    "\n",
    "\n"
   ]
  },
  {
   "cell_type": "markdown",
   "metadata": {},
   "source": [
    "**5**. (20 points)\n",
    "\n",
    "A milkmaid is at point A and needs to get to point B. However, she also needs to fill a pail of water from the river en route from A to B. The equation of the river's path is shown in the figure below. What is the minimum distance she has to travel to do this?\n",
    "\n",
    "1. Solve using `scipy.optimize` and constrained minimization (15 points)\n",
    "2. Plot the solution (5 point)\n",
    "\n",
    "![Milkmaid problem](data/milkmaid.png)\n",
    "\n",
    "Hint: There is a local and a global optimum for this problem."
   ]
  },
  {
   "cell_type": "code",
   "execution_count": null,
   "metadata": {},
   "outputs": [],
   "source": [
    "\n",
    "\n",
    "\n"
   ]
  }
 ],
 "metadata": {
  "kernelspec": {
   "display_name": "Python 3",
   "language": "python",
   "name": "python3"
  },
  "language_info": {
   "codemirror_mode": {
    "name": "ipython",
    "version": 3
   },
   "file_extension": ".py",
   "mimetype": "text/x-python",
   "name": "python",
   "nbconvert_exporter": "python",
   "pygments_lexer": "ipython3",
   "version": "3.7.0"
  }
 },
 "nbformat": 4,
 "nbformat_minor": 2
}
