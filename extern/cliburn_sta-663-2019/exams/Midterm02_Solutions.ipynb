{
 "cells": [
  {
   "cell_type": "markdown",
   "metadata": {},
   "source": [
    "**1**. (25 points)\n",
    "\n",
    "The Collatz sequence is defined by the following rules for finding the next number\n",
    "```\n",
    "if the current number is even, divide by 2\n",
    "if the current number is odd, multiply by 3 and add 1\n",
    "if the current number is 1, stop\n",
    "```\n",
    "- Find the starting number and length of the longest Collatz sequence for starting integers in `range(1, 10001)` (15 points)\n",
    "- Make a scatter plot of the sequence length against starting number for starting integers in `range(1, 10001)`. Use a size of 1 (s=1) in the argument to scatter function. (10 points)\n",
    "\n",
    "Note: The Collatz sequence is only for positive integers. For example, if the starting number is 3, the collatz sequence is `[3, 10, 5, 16, 8, 4, 2, 1]`."
   ]
  },
  {
   "cell_type": "code",
   "execution_count": 3,
   "metadata": {},
   "outputs": [],
   "source": [
    "def collatz(n):\n",
    "    \"\"\"Collatz seqeunce starting wtih n.\"\"\"\n",
    "\n",
    "    seq = [n]\n",
    "    while n != 1:\n",
    "        if n % 2 == 0:\n",
    "            n = n // 2\n",
    "        else:\n",
    "            n = 3*n + 1\n",
    "        seq.append(n)\n",
    "    return seq"
   ]
  },
  {
   "cell_type": "code",
   "execution_count": 4,
   "metadata": {},
   "outputs": [
    {
     "data": {
      "text/plain": [
       "[3, 10, 5, 16, 8, 4, 2, 1]"
      ]
     },
     "execution_count": 4,
     "metadata": {},
     "output_type": "execute_result"
    }
   ],
   "source": [
    "collatz(3)"
   ]
  },
  {
   "cell_type": "code",
   "execution_count": 9,
   "metadata": {},
   "outputs": [],
   "source": [
    "def collatz_r(n, acc=[]):\n",
    "    \"\"\"Recursive version of Collatz sequence generator.\"\"\"\n",
    "    acc.append(n)\n",
    "    if n == 1:\n",
    "        return acc\n",
    "    elif n % 2 == 0:\n",
    "        return collatz_r(n //2, acc)\n",
    "    else:\n",
    "        return collatz_r(3*n+1, acc)        "
   ]
  },
  {
   "cell_type": "code",
   "execution_count": 10,
   "metadata": {},
   "outputs": [
    {
     "data": {
      "text/plain": [
       "[3, 10, 5, 16, 8, 4, 2, 1]"
      ]
     },
     "execution_count": 10,
     "metadata": {},
     "output_type": "execute_result"
    }
   ],
   "source": [
    "collatz_r(3)"
   ]
  },
  {
   "cell_type": "code",
   "execution_count": 5,
   "metadata": {},
   "outputs": [],
   "source": [
    "ns = range(1, 10001)\n",
    "seqs = {n: collatz(n) for n in ns}"
   ]
  },
  {
   "cell_type": "code",
   "execution_count": 6,
   "metadata": {},
   "outputs": [
    {
     "data": {
      "text/plain": [
       "(6171, 262)"
      ]
     },
     "execution_count": 6,
     "metadata": {},
     "output_type": "execute_result"
    }
   ],
   "source": [
    "n, seq = max(seqs.items(), key=lambda x: len(x[1]))\n",
    "n, len(seq)"
   ]
  },
  {
   "cell_type": "code",
   "execution_count": 7,
   "metadata": {},
   "outputs": [
    {
     "data": {
      "image/png": "[encoded data removed]",
      "text/plain": [
       "<Figure size 432x288 with 1 Axes>"
      ]
     },
     "metadata": {
      "needs_background": "light"
     },
     "output_type": "display_data"
    }
   ],
   "source": [
    "%matplotlib inline\n",
    "import matplotlib.pyplot as plt\n",
    "\n",
    "xs, ys = seqs.keys(), list(map(len, seqs.values()))\n",
    "plt.scatter(xs, ys, s=1)\n",
    "pass"
   ]
  },
  {
   "cell_type": "markdown",
   "metadata": {},
   "source": [
    "**2**. (25 points)\n",
    "\n",
    "The Newton-Rephson algorithm finds zeros of a function using the update\n",
    "\n",
    "$$\n",
    "x_{n+1} = x_n - \\frac{f(x_n)}{f'(x_n)}\n",
    "$$\n",
    "\n",
    "- Use the Newton-Raphson algorithm to find all solutions to $x^3 = 1$. Use $2, -2+3i, -2-3i$ as the starting conditions. You can use a brute force function that always terminates after 100 iterations. (15 points)\n",
    "- Find the solutions by finding the companion matrix and performing an eigendecomposition. (10 points)\n",
    "\n",
    "Note: Python uses $j$ for the imaginary part, not $i$"
   ]
  },
  {
   "cell_type": "code",
   "execution_count": 6,
   "metadata": {},
   "outputs": [],
   "source": [
    "f = lambda x: x**3  - 1\n",
    "fprime = lambda x: 3*x**2\n",
    "\n",
    "def newton_raphson(x, f, fprime, n_iter=100):\n",
    "    \"\"\"Newton-Raphson algorithm.\"\"\"\n",
    "    \n",
    "    for i in range(n_iter):\n",
    "        x -= f(x)/fprime(x)\n",
    "    return x"
   ]
  },
  {
   "cell_type": "code",
   "execution_count": 7,
   "metadata": {},
   "outputs": [
    {
     "data": {
      "text/plain": [
       "1.0"
      ]
     },
     "execution_count": 7,
     "metadata": {},
     "output_type": "execute_result"
    }
   ],
   "source": [
    "newton_raphson(2, f, fprime)"
   ]
  },
  {
   "cell_type": "code",
   "execution_count": 8,
   "metadata": {},
   "outputs": [
    {
     "data": {
      "text/plain": [
       "(-0.5+0.8660254037844386j)"
      ]
     },
     "execution_count": 8,
     "metadata": {},
     "output_type": "execute_result"
    }
   ],
   "source": [
    "newton_raphson(-2+3j, f, fprime)"
   ]
  },
  {
   "cell_type": "code",
   "execution_count": 9,
   "metadata": {},
   "outputs": [
    {
     "data": {
      "text/plain": [
       "(-0.5-0.8660254037844386j)"
      ]
     },
     "execution_count": 9,
     "metadata": {},
     "output_type": "execute_result"
    }
   ],
   "source": [
    "newton_raphson(-2-3j, f, fprime)"
   ]
  },
  {
   "cell_type": "code",
   "execution_count": 10,
   "metadata": {},
   "outputs": [],
   "source": [
    "import numpy as np"
   ]
  },
  {
   "cell_type": "code",
   "execution_count": 11,
   "metadata": {},
   "outputs": [],
   "source": [
    "A = np.array([\n",
    "    [0, 1, 0],\n",
    "    [0, 0, 1],\n",
    "    [1, 0, 0]\n",
    "])"
   ]
  },
  {
   "cell_type": "code",
   "execution_count": 12,
   "metadata": {},
   "outputs": [
    {
     "data": {
      "text/plain": [
       "array([-0.5+0.8660254j, -0.5-0.8660254j,  1. +0.j       ])"
      ]
     },
     "execution_count": 12,
     "metadata": {},
     "output_type": "execute_result"
    }
   ],
   "source": [
    "np.linalg.eigvals(A)"
   ]
  },
  {
   "cell_type": "markdown",
   "metadata": {},
   "source": [
    "**3**. (20 points)\n",
    "\n",
    "You are given the following data\n",
    "\n",
    "```python\n",
    "A = np.array([[1, 8, 0, 7],\n",
    "       [0, 2, 9, 4],\n",
    "       [2, 8, 8, 3],\n",
    "       [4, 8, 6, 1],\n",
    "       [2, 1, 9, 6],\n",
    "       [0, 7, 0, 1],\n",
    "       [4, 0, 2, 4],\n",
    "       [1, 4, 9, 5],\n",
    "       [6, 2, 6, 6],\n",
    "       [9, 9, 6, 3]], dtype='float')\n",
    "\n",
    "b = np.array([[2],\n",
    "       [5],\n",
    "       [0],\n",
    "       [0],\n",
    "       [6],\n",
    "       [7],\n",
    "       [2],\n",
    "       [6],\n",
    "       [7],\n",
    "       [9]], dtype='float')\n",
    "```\n",
    "\n",
    "- Using SVD directly (not via `lstsq`), find the least squares solution to $Ax = b$ (10 points)\n",
    "- Use SVE to find the best rank 3 approximation of A (10 points)\n",
    "- Calculate the approximation error in terms of the Frobenius norm (5 points)"
   ]
  },
  {
   "cell_type": "code",
   "execution_count": 13,
   "metadata": {},
   "outputs": [],
   "source": [
    "A = np.array([[1, 8, 0, 7],\n",
    "       [0, 2, 9, 4],\n",
    "       [2, 8, 8, 3],\n",
    "       [4, 8, 6, 1],\n",
    "       [2, 1, 9, 6],\n",
    "       [0, 7, 0, 1],\n",
    "       [4, 0, 2, 4],\n",
    "       [1, 4, 9, 5],\n",
    "       [6, 2, 6, 6],\n",
    "       [9, 9, 6, 3]], dtype='float')\n",
    "\n",
    "b = np.array([[2],\n",
    "       [5],\n",
    "       [0],\n",
    "       [0],\n",
    "       [6],\n",
    "       [7],\n",
    "       [2],\n",
    "       [6],\n",
    "       [7],\n",
    "       [9]], dtype='float')"
   ]
  },
  {
   "cell_type": "code",
   "execution_count": 14,
   "metadata": {},
   "outputs": [],
   "source": [
    "U, s, Vt = np.linalg.svd(A, full_matrices=False)"
   ]
  },
  {
   "cell_type": "code",
   "execution_count": 15,
   "metadata": {},
   "outputs": [
    {
     "data": {
      "text/plain": [
       "array([[-0.34013188, -0.54411494, -0.64303249, -0.41804121],\n",
       "       [-0.14436593, -0.76637649,  0.59128419,  0.20544723],\n",
       "       [ 0.89659604, -0.33958483, -0.26064166,  0.11341786],\n",
       "       [-0.24409901, -0.03589085, -0.41104519,  0.87759294]])"
      ]
     },
     "execution_count": 15,
     "metadata": {},
     "output_type": "execute_result"
    }
   ],
   "source": [
    "Vt"
   ]
  },
  {
   "cell_type": "code",
   "execution_count": 16,
   "metadata": {},
   "outputs": [
    {
     "data": {
      "text/plain": [
       "array([[0.38618578],\n",
       "       [0.06537436],\n",
       "       [0.15871679],\n",
       "       [0.47146163]])"
      ]
     },
     "execution_count": 16,
     "metadata": {},
     "output_type": "execute_result"
    }
   ],
   "source": [
    "Vt.T @ np.diag(1/s) @ U.T @ b"
   ]
  },
  {
   "cell_type": "code",
   "execution_count": 17,
   "metadata": {},
   "outputs": [],
   "source": [
    "k = 3\n",
    "R = U[:, :k] @ np.diag(s[:k]) @ Vt[:k, :]"
   ]
  },
  {
   "cell_type": "code",
   "execution_count": 18,
   "metadata": {},
   "outputs": [
    {
     "data": {
      "text/plain": [
       "array([[ 2.36986528,  8.20141674,  2.30675469,  2.07501439],\n",
       "       [-0.06366508,  1.99063907,  8.89279258,  4.22889083],\n",
       "       [ 1.6507169 ,  7.94864352,  7.41183237,  4.25575431],\n",
       "       [ 3.30378057,  7.89763209,  4.8276165 ,  3.50307147],\n",
       "       [ 2.25436632,  1.03740049,  9.42833461,  5.08549366],\n",
       "       [ 0.15289312,  7.02248048,  0.25746103,  0.45031351],\n",
       "       [ 4.41786952,  0.06144102,  2.70366224,  2.49766148],\n",
       "       [ 1.07344832,  4.0107994 ,  9.1236817 ,  4.73593613],\n",
       "       [ 6.30827527,  2.04532694,  6.5191134 ,  4.89167841],\n",
       "       [ 8.42553715,  8.91553444,  5.03264584,  5.06532811]])"
      ]
     },
     "execution_count": 18,
     "metadata": {},
     "output_type": "execute_result"
    }
   ],
   "source": [
    "R"
   ]
  },
  {
   "cell_type": "code",
   "execution_count": 19,
   "metadata": {},
   "outputs": [
    {
     "data": {
      "text/plain": [
       "7.305957727532788"
      ]
     },
     "execution_count": 19,
     "metadata": {},
     "output_type": "execute_result"
    }
   ],
   "source": [
    "np.linalg.norm(A - R, ord='fro')"
   ]
  },
  {
   "cell_type": "markdown",
   "metadata": {},
   "source": [
    "**4**. (25 points)\n",
    "\n",
    "We observe some data points $(x_i, y_i)$, and believe that an appropriate model for the data is that\n",
    "\n",
    "$$\n",
    "f(x) = b_0 + b_1 x + b_2 x^2\n",
    "$$\n",
    "\n",
    "with some added noise. \n",
    "\n",
    "- Find optimal values of the parameters $\\beta = (b_0, b_1, b_2)$ that minimize $\\Vert y - f(x) \\Vert^2$ using gradient descent and starting with an initial value of $\\beta_0 = \\begin{bmatrix}1 & 1 &1 \\end{bmatrix}$. Use a learning rate of 0.0001 and 10,000 iterations (20 points)\n",
    "- Plot the fitted quadratic together with the data points (5 points)\n",
    "\n",
    "Remember to use column vectors for $x$ and $y$.\n",
    "\n",
    "Data\n",
    "```\n",
    "x = np.array([[0],\n",
    "       [1],\n",
    "       [2],\n",
    "       [3],\n",
    "       [4],\n",
    "       [5],\n",
    "       [6],\n",
    "       [7],\n",
    "       [8],\n",
    "       [9]])\n",
    "y = np.array([[  4.70612107],\n",
    "       [  4.63393704],\n",
    "       [  6.49770138],\n",
    "       [ 12.11243273],\n",
    "       [ 20.51575619],\n",
    "       [ 34.23493694],\n",
    "       [ 53.1814074 ],\n",
    "       [ 74.20612958],\n",
    "       [101.24176654],\n",
    "       [131.85009012]])\n",
    "```"
   ]
  },
  {
   "cell_type": "code",
   "execution_count": 25,
   "metadata": {},
   "outputs": [],
   "source": [
    "def grad(beta, A, y):\n",
    "    \"\"\"Gradient.\"\"\"\n",
    "    \n",
    "    return A.T@A@beta - A.T@y"
   ]
  },
  {
   "cell_type": "code",
   "execution_count": 26,
   "metadata": {},
   "outputs": [],
   "source": [
    "def gd(beta, x, y, a=0.0001, n_iter=10000):\n",
    "    \"\"\"Gradient descent.\"\"\"\n",
    "    \n",
    "    X = np.c_[np.ones(len(x)), x, x**2]\n",
    "\n",
    "    for i in range(n_iter):\n",
    "        beta -= a*grad(beta, X, y)\n",
    "    return beta"
   ]
  },
  {
   "cell_type": "code",
   "execution_count": 27,
   "metadata": {},
   "outputs": [],
   "source": [
    "x = np.array([[0],\n",
    "       [1],\n",
    "       [2],\n",
    "       [3],\n",
    "       [4],\n",
    "       [5],\n",
    "       [6],\n",
    "       [7],\n",
    "       [8],\n",
    "       [9]])\n",
    "y = np.array([[  4.70612107],\n",
    "       [  4.63393704],\n",
    "       [  6.49770138],\n",
    "       [ 12.11243273],\n",
    "       [ 20.51575619],\n",
    "       [ 34.23493694],\n",
    "       [ 53.1814074 ],\n",
    "       [ 74.20612958],\n",
    "       [101.24176654],\n",
    "       [131.85009012]])"
   ]
  },
  {
   "cell_type": "code",
   "execution_count": 28,
   "metadata": {},
   "outputs": [],
   "source": [
    "beta0 = np.ones((3,1))\n",
    "beta = gd(beta0, x, y)"
   ]
  },
  {
   "cell_type": "code",
   "execution_count": 29,
   "metadata": {},
   "outputs": [
    {
     "data": {
      "text/plain": [
       "array([[ 4.4403381 ],\n",
       "       [-3.61299128],\n",
       "       [ 1.96207164]])"
      ]
     },
     "execution_count": 29,
     "metadata": {},
     "output_type": "execute_result"
    }
   ],
   "source": [
    "beta"
   ]
  },
  {
   "cell_type": "code",
   "execution_count": 30,
   "metadata": {},
   "outputs": [
    {
     "data": {
      "image/png": "[encoded data removed]",
      "text/plain": [
       "<Figure size 432x288 with 1 Axes>"
      ]
     },
     "metadata": {
      "needs_background": "light"
     },
     "output_type": "display_data"
    }
   ],
   "source": [
    "m = 100\n",
    "xp = np.linspace(min(x), max(x), m).reshape(-1,1)\n",
    "X = np.c_[np.ones(m), xp, xp**2]\n",
    "yp = X@beta\n",
    "plt.plot(x, y, 'o')\n",
    "plt.plot(xp, yp)\n",
    "pass"
   ]
  },
  {
   "cell_type": "markdown",
   "metadata": {},
   "source": [
    "**5**. (25 points)\n",
    "\n",
    "Recall that the page rank of a node is given by the equation\n",
    "\n",
    "![i1](https://wikimedia.org/api/rest_v1/media/math/render/svg/6bb0f1469218a064274fd4691143e9ce64639dc2)\n",
    "\n",
    "and at steady state, we have the page rank vector $R$\n",
    "\n",
    "![i3](https://wikimedia.org/api/rest_v1/media/math/render/svg/65d2fed50688deaca4640b117c88a9e7a3c2ef0d)\n",
    "\n",
    "where $d$ is the damping factor, $N$ is the number of nodes, $1$ is a vector of ones, and \n",
    "\n",
    "![i2.5](https://wikimedia.org/api/rest_v1/media/math/render/svg/3e82b446a376633a386b10668703a4547f167d1c)\n",
    "\n",
    "where $L(p_j)$ is the number of outgoing links from node $p_j$.\n",
    "\n",
    "Consider the graph\n",
    "\n",
    "![i0](data/pagerank.png)\n",
    "\n",
    "If $d = 0.9$ find the page rank of each node\n",
    "\n",
    "- By solving a linear system (15 points)\n",
    "- By eigendecomposition (10 points)\n",
    "\n",
    "Note: The Markov matrix constructed as instructed does not follow the usual convention. Here the columns of our Markov matrix are probability vectors, and the page rank is considered to be a column vector of the steady state probabilities."
   ]
  },
  {
   "cell_type": "code",
   "execution_count": 20,
   "metadata": {},
   "outputs": [],
   "source": [
    "M = np.array([\n",
    "    [0,0,0,1],\n",
    "    [0.5,0,0,0],\n",
    "    [0.5,1,0,0],\n",
    "    [0,0,1,0]\n",
    "])"
   ]
  },
  {
   "cell_type": "code",
   "execution_count": 21,
   "metadata": {},
   "outputs": [
    {
     "data": {
      "text/plain": [
       "array([0.27963897, 0.15083753, 0.28659132, 0.28293218])"
      ]
     },
     "execution_count": 21,
     "metadata": {},
     "output_type": "execute_result"
    }
   ],
   "source": [
    "N = 4\n",
    "d = 0.9\n",
    "r = np.linalg.solve(np.eye(N) - d*M, (1-d)/N * np.ones(N))\n",
    "r"
   ]
  },
  {
   "cell_type": "code",
   "execution_count": 22,
   "metadata": {},
   "outputs": [],
   "source": [
    "A = d*M + (1-d)/N * np.ones(N)\n",
    "\n",
    "e, v = np.linalg.eig(A)"
   ]
  },
  {
   "cell_type": "code",
   "execution_count": 23,
   "metadata": {},
   "outputs": [
    {
     "data": {
      "text/plain": [
       "array([ 1.        +0.j        , -0.15849051+0.77464496j,\n",
       "       -0.15849051-0.77464496j, -0.58301898+0.j        ])"
      ]
     },
     "execution_count": 23,
     "metadata": {},
     "output_type": "execute_result"
    }
   ],
   "source": [
    "e"
   ]
  },
  {
   "cell_type": "code",
   "execution_count": 24,
   "metadata": {},
   "outputs": [
    {
     "data": {
      "text/plain": [
       "array([0.27963897, 0.15083753, 0.28659132, 0.28293218])"
      ]
     },
     "execution_count": 24,
     "metadata": {},
     "output_type": "execute_result"
    }
   ],
   "source": [
    "u = np.real_if_close(v[:, 0])\n",
    "u /= np.sum(u)\n",
    "u"
   ]
  }
 ],
 "metadata": {
  "kernelspec": {
   "display_name": "Python 3",
   "language": "python",
   "name": "python3"
  },
  "language_info": {
   "codemirror_mode": {
    "name": "ipython",
    "version": 3
   },
   "file_extension": ".py",
   "mimetype": "text/x-python",
   "name": "python",
   "nbconvert_exporter": "python",
   "pygments_lexer": "ipython3",
   "version": "3.7.0"
  }
 },
 "nbformat": 4,
 "nbformat_minor": 2
}
