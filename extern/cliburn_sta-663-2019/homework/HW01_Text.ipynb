{
 "cells": [
  {
   "cell_type": "markdown",
   "metadata": {},
   "source": [
    "# Homework 01:  Working with text"
   ]
  },
  {
   "cell_type": "markdown",
   "metadata": {},
   "source": [
    "Questions 1-6 use the text in the variable `sentences`."
   ]
  },
  {
   "cell_type": "markdown",
   "metadata": {},
   "source": [
    "`string` and `re` are imported for yoy. You should not use any ohter imports for this exercise."
   ]
  },
  {
   "cell_type": "code",
   "execution_count": 1,
   "metadata": {},
   "outputs": [],
   "source": [
    "import string\n",
    "import re"
   ]
  },
  {
   "cell_type": "code",
   "execution_count": 2,
   "metadata": {},
   "outputs": [],
   "source": [
    "sentences = \"\"\"\n",
    "Eva, Can I Stab Bats In A Cave?\n",
    "This is not a palindrome.\n",
    "Madam In Eden, I'm Adam\n",
    "Neither is this.\n",
    "Mr. Owl Ate My Metal Worm\n",
    "Do you think this is a palindrome?\n",
    "Never Odd Or Even\n",
    "Ouch! That hurts!!\n",
    "Doc, Note: I Dissent. A Fast Never Prevents A Fatness. I Diet On Cod.\n",
    "Pythons eat rats.\n",
    "\"\"\""
   ]
  },
  {
   "cell_type": "markdown",
   "metadata": {},
   "source": [
    "**1**. (10 points)\n",
    "\n",
    "- Write a function to identify palindromes. It should ignore spaces, punctuation and capitalization. "
   ]
  },
  {
   "cell_type": "code",
   "execution_count": null,
   "metadata": {},
   "outputs": [],
   "source": []
  },
  {
   "cell_type": "markdown",
   "metadata": {},
   "source": [
    "**2**. (10 points)\n",
    "\n",
    "Convert the given sentences into a list, and find the palindromes using\n",
    "\n",
    "- a for loop\n",
    "- a list comprehension\n",
    "- the `filter` higher order function"
   ]
  },
  {
   "cell_type": "code",
   "execution_count": null,
   "metadata": {},
   "outputs": [],
   "source": []
  },
  {
   "cell_type": "markdown",
   "metadata": {},
   "source": [
    "**3**. (10 points)\n",
    "\n",
    "Sort the same sentences in decreasing order of the number of vowels they contain."
   ]
  },
  {
   "cell_type": "code",
   "execution_count": null,
   "metadata": {},
   "outputs": [],
   "source": []
  },
  {
   "cell_type": "markdown",
   "metadata": {},
   "source": [
    "**4**. (10 points) \n",
    "\n",
    "Count the number of times each word occurs in the `sentences` variable. Ignore punctuation and capitalization. Show the top 3 words together with their counts."
   ]
  },
  {
   "cell_type": "code",
   "execution_count": null,
   "metadata": {},
   "outputs": [],
   "source": []
  },
  {
   "cell_type": "markdown",
   "metadata": {},
   "source": [
    "**5**. (10 points)\n",
    "\n",
    "Convert the variable sentences into a string with no spaces or punctuation and all in lower case. Now find the most commonly occurring pair of characters (the character pairs in `abcde` are `ab`, `bc`, `cd`, `de`)."
   ]
  },
  {
   "cell_type": "code",
   "execution_count": null,
   "metadata": {},
   "outputs": [],
   "source": []
  },
  {
   "cell_type": "markdown",
   "metadata": {},
   "source": [
    "**6**. (10 points)\n",
    "\n",
    "- Save the palindromes found in **1** to a file `data/palindromes.txt` with each palindrome in its own line.\n",
    "- Read the file `data/palindromes.txt` and display the lines formatted so that\n",
    "    - the longest line is printed as is\n",
    "    - all other lines are right-aligned to the longest line"
   ]
  },
  {
   "cell_type": "code",
   "execution_count": null,
   "metadata": {},
   "outputs": [],
   "source": []
  },
  {
   "cell_type": "markdown",
   "metadata": {},
   "source": [
    "**7**. (20 points)\n",
    "\n",
    "- Write a function called `encode` that uses the simple Caesar cipher with offset of $k$. A Caesar cipher moves a character $k$ positions forward with wraparound - an offset of 2 would give `a -> c, b -> d, ..., y -> a, z -> b`. \n",
    "\n",
    "The encoder should preserve punctuation, spaces and the case of the characters as in the example below for an offset of 13.\n",
    "\n",
    "```\n",
    "(original) Why did the chicken cross the road?\n",
    "(encoded) Jul qvq gur puvpxra pebff gur ebnq?\n",
    "```\n",
    "\n",
    "Write a function to encode and decode text using a Caesar cipher with an offset of 5 and test it on the `Why did the chicken cross the road?`"
   ]
  },
  {
   "cell_type": "code",
   "execution_count": null,
   "metadata": {},
   "outputs": [],
   "source": [
    "    "
   ]
  },
  {
   "cell_type": "markdown",
   "metadata": {},
   "source": [
    "**8**. (20 points)\n",
    "\n",
    "A one-time pad is the same as a Caesar cipher, except that each character is given a random offset (the pad contains a list of offsets). Without the pad, the cipher is unbreakable. Write a function to encode and decode using the one-time pad of offsets provided in `data/pad.txt`. As usual, the encoder should ignore punctuation and spaces but preserve the case of the characters."
   ]
  },
  {
   "cell_type": "code",
   "execution_count": null,
   "metadata": {},
   "outputs": [],
   "source": []
  }
 ],
 "metadata": {
  "kernelspec": {
   "display_name": "Python 3",
   "language": "python",
   "name": "python3"
  },
  "language_info": {
   "codemirror_mode": {
    "name": "ipython",
    "version": 3
   },
   "file_extension": ".py",
   "mimetype": "text/x-python",
   "name": "python",
   "nbconvert_exporter": "python",
   "pygments_lexer": "ipython3",
   "version": "3.7.0"
  }
 },
 "nbformat": 4,
 "nbformat_minor": 2
}
