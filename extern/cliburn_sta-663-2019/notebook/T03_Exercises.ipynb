{
 "cells": [
  {
   "cell_type": "markdown",
   "metadata": {},
   "source": [
    "**1**. Making wallpaper with `fromfunction`\n",
    "\n",
    "Adapted from [Circle Squared](http://igpphome.ucsd.edu/~shearer/COMP233/SciAm_Mandel.pdf)\n",
    "\n",
    "Create a $400 \\times 400$ array using the function `lambda i, j:  0.27**2*(i**2 + j**2) % 1.5`. Use `imshow` from `matplotlib.pyplot` with `interpolation='nearest'` and the `YlOrBr` colormap to display the resulting array as an image."
   ]
  },
  {
   "cell_type": "code",
   "execution_count": null,
   "metadata": {},
   "outputs": [],
   "source": [
    "%matplotlib inline\n",
    "import numpy as np\n",
    "import matplotlib.pyplot as plt"
   ]
  },
  {
   "cell_type": "code",
   "execution_count": null,
   "metadata": {},
   "outputs": [],
   "source": []
  },
  {
   "cell_type": "markdown",
   "metadata": {},
   "source": [
    "**2**. Find t least squares solution for $\\beta_0, \\beta_1, \\beta_2$ using the normal equations $\\hat{\\beta} = (X^TX)^{-1}x^Ty$.\n",
    "\n",
    "\\begin{align}\n",
    "10 &= \\beta_0 + 3 \\beta_1  + 7 \\beta_2 \\\\\n",
    "11 &= \\beta_0 + 2 \\beta_1  + 8 \\beta_2 \\\\\n",
    "9 &= \\beta_0 + 3 \\beta_1 + 7 \\beta_2 \\\\\n",
    "10 &= \\beta_0 + 1 \\beta_1 + 9 \\beta_2 \\\\\n",
    "\\end{align}\n",
    "\n",
    "You can find the inverse of a matrix by using `np.linalg.inv` and the transpose with `X.T`"
   ]
  },
  {
   "cell_type": "code",
   "execution_count": null,
   "metadata": {},
   "outputs": [],
   "source": []
  }
 ],
 "metadata": {
  "kernelspec": {
   "display_name": "Python 3",
   "language": "python",
   "name": "python3"
  },
  "language_info": {
   "codemirror_mode": {
    "name": "ipython",
    "version": 3
   },
   "file_extension": ".py",
   "mimetype": "text/x-python",
   "name": "python",
   "nbconvert_exporter": "python",
   "pygments_lexer": "ipython3",
   "version": "3.7.0"
  }
 },
 "nbformat": 4,
 "nbformat_minor": 2
}
