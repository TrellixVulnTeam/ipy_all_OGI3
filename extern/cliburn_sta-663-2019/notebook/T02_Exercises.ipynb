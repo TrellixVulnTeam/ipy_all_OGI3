{
 "cells": [
  {
   "cell_type": "markdown",
   "metadata": {},
   "source": [
    "**1**. \n",
    "\n",
    "Convert this string\n",
    "\n",
    "`123-456-789`\n",
    "\n",
    "into this string\n",
    "\n",
    "`321:654:987`"
   ]
  },
  {
   "cell_type": "code",
   "execution_count": null,
   "metadata": {},
   "outputs": [],
   "source": []
  },
  {
   "cell_type": "markdown",
   "metadata": {},
   "source": [
    "**2**.\n",
    "\n",
    "Read the DNA sequence in the file `dan.fasta` and find the longest run of a single nucleotide. For example, the longest run in `GATTACA` is T with a length of 2. Ignore lines beginning with `>`."
   ]
  },
  {
   "cell_type": "code",
   "execution_count": null,
   "metadata": {},
   "outputs": [],
   "source": []
  }
 ],
 "metadata": {
  "kernelspec": {
   "display_name": "Python 3",
   "language": "python",
   "name": "python3"
  },
  "language_info": {
   "codemirror_mode": {
    "name": "ipython",
    "version": 3
   },
   "file_extension": ".py",
   "mimetype": "text/x-python",
   "name": "python",
   "nbconvert_exporter": "python",
   "pygments_lexer": "ipython3",
   "version": "3.7.0"
  }
 },
 "nbformat": 4,
 "nbformat_minor": 2
}
