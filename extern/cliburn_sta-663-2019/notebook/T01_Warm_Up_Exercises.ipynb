{
 "cells": [
  {
   "cell_type": "markdown",
   "metadata": {},
   "source": [
    "# Warm-up exercises"
   ]
  },
  {
   "cell_type": "markdown",
   "metadata": {},
   "source": [
    "**1**. Print `Hello world!`"
   ]
  },
  {
   "cell_type": "code",
   "execution_count": null,
   "metadata": {},
   "outputs": [],
   "source": []
  },
  {
   "cell_type": "markdown",
   "metadata": {},
   "source": [
    "**2**. Find the squares of the numbers from 1 to 10."
   ]
  },
  {
   "cell_type": "code",
   "execution_count": null,
   "metadata": {},
   "outputs": [],
   "source": []
  },
  {
   "cell_type": "markdown",
   "metadata": {},
   "source": [
    "**3**. Find all odd positive integers less than 20."
   ]
  },
  {
   "cell_type": "code",
   "execution_count": null,
   "metadata": {},
   "outputs": [],
   "source": []
  },
  {
   "cell_type": "markdown",
   "metadata": {},
   "source": [
    "**4**. Do the FizzBuzz problem in Python.\n",
    "\n",
    "```\n",
    "\"Write a program that prints the numbers from 1 to 100. But for multiples of three print “Fizz” instead of the number and for the multiples of five print “Buzz”. For numbers which are multiples of both three and five print “FizzBuzz”.\"\n",
    "```"
   ]
  },
  {
   "cell_type": "code",
   "execution_count": null,
   "metadata": {},
   "outputs": [],
   "source": []
  },
  {
   "cell_type": "markdown",
   "metadata": {},
   "source": [
    "**5**. Find all unique Pythagorean triples $(a, b, c)$ such that ($a^2 + b^2 = c^2)$ for $c < 50$. Only use positive integers."
   ]
  },
  {
   "cell_type": "code",
   "execution_count": null,
   "metadata": {},
   "outputs": [],
   "source": []
  },
  {
   "cell_type": "markdown",
   "metadata": {},
   "source": [
    "**6**. Working with strings\n",
    "\n",
    "- Count the number of times 'Mary' occurs in the nursery rhyme\n",
    "- Replace Mary with Margie\n",
    "- Find all the words that end a line. You should get a list that begins with `lamb` and ends with `reply`. The words should not include punctuation."
   ]
  },
  {
   "cell_type": "code",
   "execution_count": null,
   "metadata": {},
   "outputs": [],
   "source": [
    "s = \"\"\"Mary had a little lamb,\n",
    "whose fleece was white as snow.\n",
    "\n",
    "And everywhere that Mary went,\n",
    "the lamb was sure to go.\n",
    "\n",
    "It followed her to school one day\n",
    "which was against the rules.\n",
    "\n",
    "It made the children laugh and play,\n",
    "to see a lamb at school.\n",
    "\n",
    "And so the teacher turned it out,\n",
    "but still it lingered near,\n",
    "\n",
    "And waited patiently about,\n",
    "till Mary did appear.\n",
    "\n",
    "“Why does the lamb love Mary so?\"\n",
    "the eager children cry.\n",
    "\n",
    "“Why, Mary loves the lamb, you know.\"\n",
    "the teacher did reply\"\"\""
   ]
  },
  {
   "cell_type": "code",
   "execution_count": null,
   "metadata": {},
   "outputs": [],
   "source": []
  },
  {
   "cell_type": "code",
   "execution_count": null,
   "metadata": {},
   "outputs": [],
   "source": []
  },
  {
   "cell_type": "code",
   "execution_count": null,
   "metadata": {},
   "outputs": [],
   "source": []
  }
 ],
 "metadata": {
  "kernelspec": {
   "display_name": "Python 3",
   "language": "python",
   "name": "python3"
  },
  "language_info": {
   "codemirror_mode": {
    "name": "ipython",
    "version": 3
   },
   "file_extension": ".py",
   "mimetype": "text/x-python",
   "name": "python",
   "nbconvert_exporter": "python",
   "pygments_lexer": "ipython3",
   "version": "3.7.0"
  }
 },
 "nbformat": 4,
 "nbformat_minor": 2
}
